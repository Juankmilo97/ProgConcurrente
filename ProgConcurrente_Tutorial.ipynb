{
 "cells": [
  {
   "cell_type": "markdown",
   "metadata": {},
   "source": [
    "#        Guía Práctica de GO\n",
    "Esta guía tiene como propósito enseñar las bases del lenguaje ***GO*** pasando por paquetes, funciones, variables, flujos de control (entre estos el for, \"while\", if, else, switch, defer), estructuras (structs, slices, maps), métodos e interfaces,  ***concurrencia***."
   ]
  },
  {
   "cell_type": "markdown",
   "metadata": {},
   "source": [
    "## Paquetes\n",
    "Todos programa en go esta constituido a través de paquetes, los programas empiezan su ejecución al correr el paquete *main*,  por convención el nombre del paquete es el ultimo elemento de la ruta de importación (ej: si importamos \"math/rand\", al llamar a las funciones de este paquete solo usaremos rand.*funcion()* )\n",
    "```go\n",
    "package main\n",
    "\n",
    "import (\n",
    "\t\"fmt\"\n",
    "\t\"math/rand\"\n",
    ")\n",
    "\n",
    "func main() {\n",
    "\tfmt.Println(\"My favorite number is\", rand.Intn(10))\n",
    "}\n",
    "```"
   ]
  },
  {
   "cell_type": "code",
   "execution_count": 16,
   "metadata": {},
   "outputs": [],
   "source": [
    "import (\n",
    "\t\"fmt\"\n",
    "\t\"math/rand\"\n",
    ")\n",
    "\n",
    "func main() {\n",
    "\tfmt.Println(\"My favorite number is\", rand.Intn(10))\n",
    "}"
   ]
  },
  {
   "cell_type": "markdown",
   "metadata": {},
   "source": [
    "**Nota** *: al momento de usar funciones o valores pertenecientes a un paquete debemos referirnos a estas usando una mayúscula inicial, puesto que los paquetes solo exponen las funciones y constantes que empiecen por mayúscula, si para el ejemplo anterior cambiamos rand.Intn(10) por rand.intn(10), nos arrojara un error que nos dice que no podemos acceder a nombres no exportados por el paquete*\n",
    "\n",
    "## Variables\n",
    "\n",
    "para la declaración de variables haremos uso de la palabra reservada **var** seguido del nombre de las variables que deseemos declarar y por último el tipo al que estas pertenecen\n",
    "\n",
    "```go\n",
    "var x, y, z int\n",
    "```"
   ]
  },
  {
   "cell_type": "code",
   "execution_count": 17,
   "metadata": {},
   "outputs": [],
   "source": [
    "var x, y, z int"
   ]
  },
  {
   "cell_type": "markdown",
   "metadata": {},
   "source": [
    "Si queremos asignar valores a las variables en la misma declaración lo haremos usando un = despues del tipo de las variables declaradas y seguido de este los valores en el mismo orden en como declaramos las variables.\n",
    "```go\n",
    "var x, y, z int = 1, 2, 3\n",
    "```"
   ]
  },
  {
   "cell_type": "code",
   "execution_count": 18,
   "metadata": {},
   "outputs": [],
   "source": [
    "var x, y, z int = 1, 2, 3"
   ]
  },
  {
   "cell_type": "markdown",
   "metadata": {},
   "source": [
    "### Declaración corta de variables\n",
    " Si deseamos declarar una variable de forma rápida dentro de una **función** podemos hacer uso de la declaración corta usando el operador de asignación ***:=***, este tiene el tipo de forma implicita.\n",
    " ```go\n",
    "func main() {\n",
    "\tvar i, j int = 1, 2\n",
    "\tk := 3\n",
    "\tc, python, java := true, false, \"no!\"\n",
    "\n",
    "\tfmt.Println(i, j, k, c, python, java)\n",
    "}\n",
    "```\n",
    "go infiere el tipo de dato de dos formas:\n",
    "\n",
    "\n",
    "*   ```go\n",
    "var i int\n",
    "j := i\n",
    "```\n",
    "*```go\n",
    "i := 42           // int\n",
    "f := 3.142        // float64\n",
    "g := 0.867 + 0.5i // complex128\n",
    "```\n",
    "\n"
   ]
  },
  {
   "cell_type": "code",
   "execution_count": 19,
   "metadata": {},
   "outputs": [],
   "source": [
    "func main() {\n",
    "\tvar i, j int = 1, 2\n",
    "\tk := 3\n",
    "\tc, python, java := true, false, \"no!\"\n",
    "\n",
    "\tfmt.Println(i, j, k, c, python, java)\n",
    "}\n",
    "\n",
    "var i int\n",
    "j := i\n",
    "\n",
    "i := 42           // int\n",
    "f := 3.142        // float64\n",
    "g := 0.867 + 0.5i // complex128"
   ]
  },
  {
   "cell_type": "markdown",
   "metadata": {},
   "source": [
    "### Tipos primitivos\n",
    "Entre los tipos de datos primitivos del lenguaje encontramos los siguientes:\n",
    "\n",
    "```go\n",
    "booleanos {bool}\n",
    "cadena {string}\n",
    "enteros {int, int8, int16, int32, int64, uint, uint8, uint16, uint32, uint64, uintptr}\n",
    "ALIAS {byte: int8, rune: int32}\n",
    "decimales {float32, float64}\n",
    "complejos {complex64, complex128}\n",
    "```"
   ]
  },
  {
   "cell_type": "markdown",
   "metadata": {},
   "source": [
    "Los valores por defecto para las variables son los siguientes:\n",
    "\n",
    "\n",
    "1.  0 para todos los tipos numéricos\n",
    "2.  false para todos los tipo booleano\n",
    "3.  **\"\"** para los tipo string\n",
    "\n",
    "### Casting\n",
    "para realizar conversión de tipos en GO usamos la siguiente sintáxis:\n",
    "```go\n",
    "T(v) //Esto convierte el elemento de tipo v en el tipo T\n",
    "//Ejemplo:\n",
    "var i int = 42\n",
    "var f float64 = float64(i)\n",
    "var u uint = uint(f)\n",
    "```"
   ]
  },
  {
   "cell_type": "code",
   "execution_count": 22,
   "metadata": {},
   "outputs": [],
   "source": [
    "// T(v) //Esto convierte el elemento de tipo v en el tipo T\n",
    "//Ejemplo:\n",
    "var i int = 42\n",
    "var f float64 = float64(i)\n",
    "var u uint = uint(f)"
   ]
  },
  {
   "cell_type": "code",
   "execution_count": null,
   "metadata": {},
   "outputs": [],
   "source": []
  }
 ],
 "metadata": {
  "kernelspec": {
   "display_name": "Go",
   "language": "go",
   "name": "gophernotes"
  },
  "language_info": {
   "codemirror_mode": "",
   "file_extension": ".go",
   "mimetype": "",
   "name": "go",
   "nbconvert_exporter": "",
   "pygments_lexer": "",
   "version": "go1.12.6"
  }
 },
 "nbformat": 4,
 "nbformat_minor": 2
}
