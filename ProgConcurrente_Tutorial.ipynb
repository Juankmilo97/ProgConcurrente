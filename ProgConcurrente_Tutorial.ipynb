{
 "cells": [
  {
   "cell_type": "markdown",
   "metadata": {},
   "source": [
    "#        Guía Práctica de GO\n",
    "Esta guía tiene como propósito enseñar las bases del lenguaje ***GO*** pasando por paquetes, funciones, variables, flujos de control (entre estos el for, \"while\", if, else, switch, defer), estructuras (structs, slices, maps), métodos e interfaces,  ***concurrencia***."
   ]
  },
  {
   "cell_type": "markdown",
   "metadata": {},
   "source": [
    "## Paquetes\n",
    "Todos programa en go esta constituido a través de paquetes, los programas empiezan su ejecución al correr el paquete *main*,  por convención el nombre del paquete es el ultimo elemento de la ruta de importación (ej: si importamos \"math/rand\", al llamar a las funciones de este paquete solo usaremos rand.*funcion()* )\n",
    "```go\n",
    "package main\n",
    "\n",
    "import (\n",
    "\t\"fmt\"\n",
    "\t\"math/rand\"\n",
    ")\n",
    "\n",
    "func main() {\n",
    "\tfmt.Println(\"My favorite number is\", rand.Intn(10))\n",
    "}\n",
    "```"
   ]
  },
  {
   "cell_type": "code",
   "execution_count": 42,
   "metadata": {},
   "outputs": [],
   "source": [
    "import (\n",
    "\t\"fmt\"\n",
    "\t\"math/rand\"\n",
    ")\n",
    "\n",
    "func main() {\n",
    "\tfmt.Println(\"My favorite number is\", rand.Intn(10))\n",
    "}"
   ]
  },
  {
   "cell_type": "markdown",
   "metadata": {},
   "source": [
    "**Nota** *: al momento de usar funciones o valores pertenecientes a un paquete debemos referirnos a estas usando una mayúscula inicial, puesto que los paquetes solo exponen las funciones y constantes que empiecen por mayúscula, si para el ejemplo anterior cambiamos rand.Intn(10) por rand.intn(10), nos arrojara un error que nos dice que no podemos acceder a nombres no exportados por el paquete*\n",
    "\n",
    "## Variables\n",
    "\n",
    "para la declaración de variables haremos uso de la palabra reservada **var** seguido del nombre de las variables que deseemos declarar y por último el tipo al que estas pertenecen\n",
    "\n",
    "```go\n",
    "var x, y, z int\n",
    "```"
   ]
  },
  {
   "cell_type": "code",
   "execution_count": 43,
   "metadata": {},
   "outputs": [],
   "source": [
    "var x, y, z int"
   ]
  },
  {
   "cell_type": "markdown",
   "metadata": {},
   "source": [
    "Si queremos asignar valores a las variables en la misma declaración lo haremos usando un = despues del tipo de las variables declaradas y seguido de este los valores en el mismo orden en como declaramos las variables.\n",
    "```go\n",
    "var x, y, z int = 1, 2, 3\n",
    "```"
   ]
  },
  {
   "cell_type": "code",
   "execution_count": 44,
   "metadata": {},
   "outputs": [],
   "source": [
    "var x, y, z int = 1, 2, 3"
   ]
  },
  {
   "cell_type": "markdown",
   "metadata": {},
   "source": [
    "### Declaración corta de variables\n",
    " Si deseamos declarar una variable de forma rápida dentro de una **función** podemos hacer uso de la declaración corta usando el operador de asignación ***:=***, este tiene el tipo de forma implicita.\n",
    " ```go\n",
    "func main() {\n",
    "\tvar i, j int = 1, 2\n",
    "\tk := 3\n",
    "\tc, python, java := true, false, \"no!\"\n",
    "\n",
    "\tfmt.Println(i, j, k, c, python, java)\n",
    "}\n",
    "```\n",
    "go infiere el tipo de dato de dos formas:\n",
    "\n",
    "\n",
    "*   ```go\n",
    "var i int\n",
    "j := i\n",
    "```\n",
    "*```go\n",
    "i := 42           // int\n",
    "f := 3.142        // float64\n",
    "g := 0.867 + 0.5i // complex128\n",
    "```\n",
    "\n"
   ]
  },
  {
   "cell_type": "code",
   "execution_count": 45,
   "metadata": {},
   "outputs": [],
   "source": [
    "func main() {\n",
    "\tvar i, j int = 1, 2\n",
    "\tk := 3\n",
    "\tc, python, java := true, false, \"no!\"\n",
    "\n",
    "\tfmt.Println(i, j, k, c, python, java)\n",
    "}\n",
    "\n",
    "var i int\n",
    "j := i\n",
    "\n",
    "i := 42           // int\n",
    "f := 3.142        // float64\n",
    "g := 0.867 + 0.5i // complex128"
   ]
  },
  {
   "cell_type": "markdown",
   "metadata": {},
   "source": [
    "### Tipos primitivos\n",
    "Entre los tipos de datos primitivos del lenguaje encontramos los siguientes:\n",
    "\n",
    "```go\n",
    "booleanos {bool}\n",
    "cadena {string}\n",
    "enteros {int, int8, int16, int32, int64, uint, uint8, uint16, uint32, uint64, uintptr}\n",
    "ALIAS {byte: int8, rune: int32}\n",
    "decimales {float32, float64}\n",
    "complejos {complex64, complex128}\n",
    "```"
   ]
  },
  {
   "cell_type": "markdown",
   "metadata": {},
   "source": [
    "Los valores por defecto para las variables son los siguientes:\n",
    "\n",
    "\n",
    "1.  0 para todos los tipos numéricos\n",
    "2.  false para todos los tipo booleano\n",
    "3.  **\"\"** para los tipo string\n",
    "\n",
    "### Casting\n",
    "para realizar conversión de tipos en GO usamos la siguiente sintáxis:\n",
    "```go\n",
    "T(v) //Esto convierte el elemento de tipo v en el tipo T\n",
    "//Ejemplo:\n",
    "var i int = 42\n",
    "var f float64 = float64(i)\n",
    "var u uint = uint(f)\n",
    "```"
   ]
  },
  {
   "cell_type": "code",
   "execution_count": 46,
   "metadata": {},
   "outputs": [],
   "source": [
    "// T(v) //Esto convierte el elemento de tipo v en el tipo T\n",
    "//Ejemplo:\n",
    "var i int = 42\n",
    "var f float64 = float64(i)\n",
    "var u uint = uint(f)"
   ]
  },
  {
   "cell_type": "markdown",
   "metadata": {},
   "source": [
    "### Constantes\n",
    "\n",
    "Para declarar constantes en GO se usa la siguiente sintaxis \n",
    "```go\n",
    "  const (\n",
    "  hola int = 20\n",
    "\t//GO tambien permite declaraciones con desplazamient de bits.\n",
    "\t//la siguiente declaración se puede ver como un 1 seguido de 100 ceros.\n",
    "  Big = 1 << 100\n",
    "\t/*En la siguiente declaración se devuelve 99 veces terminando en 1<<1, que en binario es 10 o en su representación decimal 2.*/\n",
    "\tSmall = Big >> 99\n",
    ")\n",
    "```\n"
   ]
  },
  {
   "cell_type": "code",
   "execution_count": 47,
   "metadata": {},
   "outputs": [],
   "source": [
    "const (\n",
    "  hola int = 20\n",
    "\t//GO tambien permite declaraciones con desplazamient de bits.\n",
    "\t//la siguiente declaración se puede ver como un 1 seguido de 100 ceros.\n",
    "  Big = 1 << 100\n",
    "\t/*En la siguiente declaración se devuelve 99 veces terminando en 1<<1, que en binario es 10 o en su representación decimal 2.*/\n",
    "\tSmall = Big >> 99\n",
    ")"
   ]
  },
  {
   "cell_type": "markdown",
   "metadata": {},
   "source": [
    "## Flujos de control\n",
    "\n",
    "### for\n",
    "\n",
    "El ciclo for es muy similar a como lo declaramos en lenguajes como C o Java:\n",
    "```go\n",
    "func main() {\n",
    "\tsum := 0\n",
    "\tfor i := 0; i < 10; i++ {\n",
    "\t\tsum += i\n",
    "\t}\n",
    "\tfmt.Println(sum)\n",
    "}\n",
    "```\n",
    "\n",
    "la declaracion inicial y final son opcionales\n",
    "```go\n",
    "func main() {\n",
    "\tsum := 1\n",
    "\tfor ; sum < 1000; {\n",
    "\t\tsum += sum\n",
    "\t}\n",
    "\tfmt.Println(sum)\n",
    "}\n",
    "```\n",
    "\n",
    "\n",
    "### \"while\"\n",
    "\n",
    "```go\n",
    "import \"fmt\"\n",
    "\n",
    "func main() {\n",
    "\tsum := 1\n",
    "\tfor sum<1000{\n",
    "\t\tsum += sum\n",
    "\t}\n",
    "\tfmt.Println(sum)\n",
    "}\n",
    "```\n",
    "si queremos un ciclo del tipo while(true) usamos la siguiente sintaxis\n",
    "\n",
    "```go\n",
    "func main() {\n",
    "\tsum := 1\n",
    "\tfor {\n",
    "\t\tsum += sum\n",
    "\t\tif sum == 4{\n",
    "\t\t\tbreak\n",
    "\t\t}\n",
    "\t}\n",
    "\tfmt.Println(sum)\n",
    "```"
   ]
  },
  {
   "cell_type": "code",
   "execution_count": 48,
   "metadata": {},
   "outputs": [],
   "source": [
    "func main() {\n",
    "\tsum := 1\n",
    "\tfor ; sum < 1000; {\n",
    "\t\tsum += sum\n",
    "\t}\n",
    "\tfmt.Println(sum)\n",
    "}"
   ]
  },
  {
   "cell_type": "code",
   "execution_count": 49,
   "metadata": {},
   "outputs": [],
   "source": [
    "func main() {\n",
    "    sum := 1\n",
    "    for {\n",
    "        sum += sum\n",
    "        if sum == 4{\n",
    "            break\n",
    "        }\n",
    "    }\n",
    "    fmt.Println(sum)\n",
    "}"
   ]
  },
  {
   "cell_type": "markdown",
   "metadata": {},
   "source": [
    "### if\n",
    "para declarar un if lo hacemos como en C o Java, no es necesario el uso de parentesis para la expresion lógica a evaluar\n",
    "```go\n",
    "func sqrt(x float64) string {\n",
    "\tif (x < 0) {\n",
    "\t\treturn sqrt(-x) + \"i\"\n",
    "\t}\n",
    "\treturn fmt.Sprint(math.Sqrt(x))\n",
    "}\n",
    "```\n",
    "\n",
    "se puede declarar de forma corta asi:\n",
    "\n",
    "```go\n",
    "func pow(x, n, lim float64) float64 {\n",
    "\tif v := math.Pow(x, n); v < lim {\n",
    "\t\treturn v\n",
    "\t}\n",
    "\treturn lim\n",
    "}\n",
    "```"
   ]
  },
  {
   "cell_type": "code",
   "execution_count": 50,
   "metadata": {},
   "outputs": [],
   "source": [
    "import (\n",
    "\t\"fmt\"\n",
    "\t\"math\"\n",
    ")\n",
    "\n",
    "func sqrt(x float64) string {\n",
    "\tif (x < 0) {\n",
    "\t\treturn sqrt(-x) + \"i\"\n",
    "\t}\n",
    "\treturn fmt.Sprint(math.Sqrt(x))\n",
    "}"
   ]
  },
  {
   "cell_type": "code",
   "execution_count": 51,
   "metadata": {},
   "outputs": [],
   "source": [
    "func pow(x, n, lim float64) float64 {\n",
    "    if v := math.Pow(x, n); v < lim {\n",
    "        return v\n",
    "    }\n",
    "    return lim\n",
    "}"
   ]
  },
  {
   "cell_type": "markdown",
   "metadata": {},
   "source": [
    "### if-else\n",
    "\n",
    "para manejar else se hace de una forma similar a C."
   ]
  },
  {
   "cell_type": "code",
   "execution_count": 52,
   "metadata": {},
   "outputs": [],
   "source": [
    "func pow(x, n, lim float64) float64 {\n",
    "\tif v := math.Pow(x, n); v < lim {\n",
    "\t\treturn v\n",
    "\t} else {\n",
    "\t\tfmt.Printf(\"%g >= %g\\n\", v, lim)\n",
    "\t}\n",
    "\t// can't use v here, though\n",
    "\treturn lim\n",
    "}"
   ]
  },
  {
   "cell_type": "markdown",
   "metadata": {},
   "source": [
    "### switch\n",
    "\n"
   ]
  },
  {
   "cell_type": "code",
   "execution_count": 53,
   "metadata": {},
   "outputs": [],
   "source": [
    "func main() {\n",
    "\tswitch a:= 10; a {\n",
    "\tcase 1:\n",
    "\t\tfmt.Println(\"uno\")\n",
    "\tcase 2:\n",
    "\t\tfmt.Println(\"dos\")\n",
    "\tdefault:\n",
    "\t\t// freebsd, openbsd,\n",
    "\t\t// plan9, windows...\n",
    "\t\tfmt.Printf(\"otro %d\", a)\n",
    "\t}\n",
    "}"
   ]
  },
  {
   "cell_type": "code",
   "execution_count": 54,
   "metadata": {},
   "outputs": [],
   "source": [
    "import (\n",
    "\t\"fmt\"\n",
    "\t\"time\"\n",
    ")\n",
    "\n",
    "func main() {\n",
    "\tfmt.Println(\"When's Saturday?\")\n",
    "\ttoday := time.Now().Weekday()\n",
    "\tswitch time.Saturday {\n",
    "\tcase today + 0:\n",
    "\t\tfmt.Println(\"Today.\")\n",
    "\tcase today + 1:\n",
    "\t\tfmt.Println(\"Tomorrow.\")\n",
    "\tcase today + 2:\n",
    "\t\tfmt.Println(\"In two days.\")\n",
    "\tdefault:\n",
    "\t\tfmt.Println(\"Too far away.\")\n",
    "\t}\n",
    "}\n"
   ]
  },
  {
   "cell_type": "markdown",
   "metadata": {},
   "source": [
    "### defer\n",
    "\n",
    "Esta estructura de control se usa para aplazar una funcion, esta se ejecuta cuando la función que lo envulve se ejecuta\n"
   ]
  },
  {
   "cell_type": "code",
   "execution_count": 55,
   "metadata": {},
   "outputs": [],
   "source": [
    "import \"fmt\"\n",
    "\n",
    "func main() {\n",
    "\tfmt.Println(\"counting\")\n",
    "\n",
    "\tfor i := 0; i < 10; i++ {\n",
    "\t\tdefer fmt.Println(i)\n",
    "\t}\n",
    "\n",
    "\tfmt.Println(\"done\")\n",
    "}"
   ]
  },
  {
   "cell_type": "markdown",
   "metadata": {},
   "source": [
    "### Punteros\n",
    "\n",
    "GO permite el uso de punteros"
   ]
  },
  {
   "cell_type": "code",
   "execution_count": 64,
   "metadata": {},
   "outputs": [],
   "source": [
    "import \"fmt\"\n",
    "\n",
    "func main() {\n",
    "\ti, j := 42, 2701\n",
    "\n",
    "\tp := &i         // apunta a i\n",
    "\tfmt.Println(*p) // lee i atraves del puntero\n",
    "\t*p = 21         // asigna i a traves del puntero\n",
    "\tfmt.Println(i)  // ve el nuevo valor de i\n",
    "\n",
    "\tp = &j         // apunta a j\n",
    "\t*p = *p / 37   // divide j a traves del puntero\n",
    "\tfmt.Println(j) // ve el nuevo valor de j\n",
    "}\n"
   ]
  },
  {
   "cell_type": "markdown",
   "metadata": {},
   "source": [
    "### Estructuras\n",
    "\n",
    "La estructura se define como una colección de campos"
   ]
  },
  {
   "cell_type": "code",
   "execution_count": 65,
   "metadata": {},
   "outputs": [],
   "source": [
    "import \"fmt\"\n",
    "\n",
    "type Vertex struct {\n",
    "\tX int\n",
    "\tY int\n",
    "}\n",
    "\n",
    "func main() {\n",
    "\tv := Vertex{1, 2}\n",
    "\tv.X = 4\n",
    "\tfmt.Println(v.X)\n",
    "}"
   ]
  },
  {
   "cell_type": "code",
   "execution_count": 66,
   "metadata": {},
   "outputs": [],
   "source": [
    "import \"fmt\"\n",
    "\n",
    "type Vertex struct {\n",
    "\tX int\n",
    "\tY int\n",
    "}\n",
    "// usando punteros con estructuras\n",
    "func main() {\n",
    "\tv := Vertex{1, 2}\n",
    "\tp := &v\n",
    "\tp.X = 1e9\n",
    "\tfmt.Println(v)\n",
    "}"
   ]
  },
  {
   "cell_type": "code",
   "execution_count": 67,
   "metadata": {},
   "outputs": [],
   "source": [
    "import \"fmt\"\n",
    "\n",
    "type Vertex struct {\n",
    "\tX, Y int\n",
    "}\n",
    "\n",
    "var (\n",
    "\tv1 = Vertex{1, 2}  // tiene tipo Vertex\n",
    "\tv2 = Vertex{X: 1}  // Y:0 es implicito\n",
    "\tv3 = Vertex{}      // X:0 y Y:0\n",
    "\tp  = &Vertex{1, 2} // tiene tipo *Vertex\n",
    ")\n",
    "\n",
    "func main() {\n",
    "\tfmt.Println(v1, p, v2, v3)\n",
    "}"
   ]
  },
  {
   "cell_type": "markdown",
   "metadata": {},
   "source": [
    "### Arrays"
   ]
  },
  {
   "cell_type": "code",
   "execution_count": 68,
   "metadata": {},
   "outputs": [],
   "source": [
    "import \"fmt\"\n",
    "\n",
    "func main() {\n",
    "\tvar a [2]string\n",
    "\ta[0] = \"Hello\"\n",
    "\ta[1] = \"World\"\n",
    "\tfmt.Println(a[0], a[1])\n",
    "\tfmt.Println(a)\n",
    "\n",
    "\tprimes := [6]int{2, 3, 5, 7, 11, 13}\n",
    "\tfmt.Println(primes)\n",
    "}"
   ]
  },
  {
   "cell_type": "markdown",
   "metadata": {},
   "source": [
    "### Porciones (slices)\n",
    "\n",
    "las porciones son secciones de arreglos, estas no almacenan datos, solo hacen referencia a secciones especificas de un arreglo como podemos ver con el siguiente código:"
   ]
  },
  {
   "cell_type": "code",
   "execution_count": 69,
   "metadata": {},
   "outputs": [],
   "source": [
    "import \"fmt\"\n",
    "\n",
    "func main() {\n",
    "\tnames := [4]string{\n",
    "\t\t\"John\",\n",
    "\t\t\"Paul\",\n",
    "\t\t\"George\",\n",
    "\t\t\"Ringo\",\n",
    "\t}\n",
    "\tfmt.Println(names)\n",
    "\n",
    "\ta := names[0:2]\n",
    "\tb := names[1:3]\n",
    "\tfmt.Println(a, b)\n",
    "\n",
    "\tb[0] = \"XXX\"\n",
    "\tfmt.Println(a, b)\n",
    "\tfmt.Println(names)\n",
    "}"
   ]
  },
  {
   "cell_type": "code",
   "execution_count": 71,
   "metadata": {},
   "outputs": [],
   "source": [
    "// valores por defecto\n",
    "import \"fmt\"\n",
    "\n",
    "func main() {\n",
    "\ts := []int{2, 3, 5, 7, 11, 13}\n",
    "\n",
    "\ts = s[1:4]\n",
    "\tfmt.Println(s)\n",
    "\n",
    "\ts = s[:2]\n",
    "\tfmt.Println(s)\n",
    "\n",
    "\ts = s[1:]\n",
    "\tfmt.Println(s)\n",
    "}"
   ]
  },
  {
   "cell_type": "code",
   "execution_count": 72,
   "metadata": {},
   "outputs": [],
   "source": [
    "// usando el rango de un slice o array\n",
    "\n",
    "import \"fmt\"\n",
    "\n",
    "var pow = []int{1, 2, 4, 8, 16, 32, 64, 128}\n",
    "\n",
    "func main() {\n",
    "\tfor i, v := range pow {\n",
    "\t\tfmt.Printf(\"2**%d = %d\\n\", i, v)\n",
    "\t}\n",
    "  for i, v := range pow {\n",
    "\t\tfmt.Printf(\"2**%d = %d\\n\", i, v)\n",
    "\t}\n",
    "    \tfor i, v := range pow {\n",
    "\t\tfmt.Printf(\"2**%d = %d\\n\", i, v)\n",
    "\t}\n",
    "}\n"
   ]
  },
  {
   "cell_type": "markdown",
   "metadata": {},
   "source": [
    "### Maps\n",
    "los maps almacenan tuplas de datos del tipo llave-valor el valor cero de un mapa es **nil**, se usa la función **make()** para crear mapas (tambien se usa en el caso de querer crear arreglos dinámicos)"
   ]
  },
  {
   "cell_type": "markdown",
   "metadata": {},
   "source": [
    "### Ejemplo Go (Presentación Teórica)"
   ]
  },
  {
   "cell_type": "code",
   "execution_count": 56,
   "metadata": {},
   "outputs": [],
   "source": [
    "import (\n",
    "\t\"fmt\"\n",
    "\t\"time\"\n",
    ")\n",
    "\n",
    "func say(s string) {\n",
    "\tfor i := 0; i < 5; i++ {\n",
    "\t\ttime.Sleep(100 * time.Millisecond)\n",
    "\t\tfmt.Println(s)\n",
    "\t}\n",
    "}\n",
    "\n",
    "func main() {\n",
    "\tgo say(\"world\")\n",
    "\tsay(\"hello\")\n",
    "}\n"
   ]
  },
  {
   "cell_type": "markdown",
   "metadata": {},
   "source": [
    "## Concurrencia\n",
    "### GORoutines\n",
    "\n",
    "Una goroutine es un hilo “ligero” gestionado por tiempo de ejecución de GO. Estas rutinas se corren en el mismo espacio de direcciones lo que implica que el acceso a la memoria deba ser sincronizado."
   ]
  },
  {
   "cell_type": "code",
   "execution_count": 57,
   "metadata": {},
   "outputs": [],
   "source": [
    "import \"time\"\n",
    "\n",
    "func say(s string) {\n",
    "    for i := 0; i < 5; i++ {\n",
    "        time.Sleep(100 * time.Millisecond)\n",
    "        fmt.Println(s)\n",
    "    }\n",
    "}\n",
    "\n",
    "func main() {\n",
    "    go say(\"world\")\n",
    "    say(\"hello\")\n",
    "}"
   ]
  },
  {
   "cell_type": "markdown",
   "metadata": {},
   "source": [
    "## Channels\n",
    "\n",
    "Son un conducto a través del cual se pueden enviar y recibir valores por medio del operador “<-”, los datos fluyen en la dirección de los datos. Los canales deben ser creados antes de usarlos.\n",
    "\n",
    "<b>NOTA:</b> Por defecto, se envía y recibe el bloque hasta que el otro lado esté listo; esto le permite a las goroutines una sincronización sin bloqueos explícitos o condicionales."
   ]
  },
  {
   "cell_type": "code",
   "execution_count": 58,
   "metadata": {},
   "outputs": [],
   "source": [
    "func sum(s []int, c chan int) {\n",
    "    sum := 0\n",
    "    for _, v := range s {\n",
    "        sum += v\n",
    "    }\n",
    "    c <- sum // send sum to c\n",
    "}\n",
    "func main() {\n",
    "    s := []int{7, 2, 8, -9, 4, 0}\n",
    "\n",
    "    c := make(chan int)\n",
    "    go sum(s[:len(s)/2], c)\n",
    "    go sum(s[len(s)/2:], c)\n",
    "    x, y := <-c, <-c // receive from c\n",
    "\n",
    "    fmt.Println(x, y, x+y)\n",
    "}"
   ]
  },
  {
   "cell_type": "markdown",
   "metadata": {},
   "source": [
    "## Buffered Channels\n",
    "\n",
    "Esto sucede cuando se ingresa un segundo argumento al momento de inicializar el canal que corresponde al tamaño del canal."
   ]
  },
  {
   "cell_type": "code",
   "execution_count": 59,
   "metadata": {},
   "outputs": [],
   "source": [
    "func main() {\n",
    "    ch := make(chan int, 2)\n",
    "    ch <- 1\n",
    "    ch <- 2\n",
    "    fmt.Println(<-ch)\n",
    "    fmt.Println(<-ch)\n",
    "}"
   ]
  },
  {
   "cell_type": "markdown",
   "metadata": {},
   "source": [
    "## Select\n",
    "\n",
    "Permite a una gouroutine esperar en múltiples operaciones de comunicación. Select escoge uno de los bloques que sea posible correr y lo ejecuta, sin embargo, si hay varios disponibles ejecuta uno al azar."
   ]
  },
  {
   "cell_type": "code",
   "execution_count": 60,
   "metadata": {},
   "outputs": [],
   "source": [
    "func fibonacci(c, quit chan int) {\n",
    "    x, y := 0, 1\n",
    "    for {\n",
    "        select {\n",
    "        case c <- x:\n",
    "            x, y = y, x+y\n",
    "        case <-quit:\n",
    "            fmt.Println(\"quit\")\n",
    "            return\n",
    "        }\n",
    "    }\n",
    "}\n",
    "\n",
    "func main() {\n",
    "    c := make(chan int)\n",
    "    quit := make(chan int)\n",
    "    go func() {\n",
    "        for i := 0; i < 10; i++ {\n",
    "            fmt.Println(<-c)\n",
    "        }\n",
    "        quit <- 0\n",
    "    }()\n",
    "    fibonacci(c, quit)\n",
    "}\n"
   ]
  },
  {
   "cell_type": "markdown",
   "metadata": {},
   "source": [
    "## Default Select \n",
    "\n",
    "El caso default se corre cuando ningún otro caso esta listo dentro de los bloques del select."
   ]
  },
  {
   "cell_type": "code",
   "execution_count": 61,
   "metadata": {},
   "outputs": [],
   "source": [
    "import \"time\"\n",
    "\n",
    "func main() {\n",
    "    tick := time.Tick(100 * time.Millisecond)\n",
    "    boom := time.After(500 * time.Millisecond)\n",
    "    for {\n",
    "        select {\n",
    "        case <-tick:\n",
    "            fmt.Println(\"tick.\")\n",
    "        case <-boom:\n",
    "            fmt.Println(\"BOOM!\")\n",
    "            return\n",
    "        default:\n",
    "            fmt.Println(\"    .\")\n",
    "            time.Sleep(50 * time.Millisecond)\n",
    "        }\n",
    "    }\n",
    "}"
   ]
  },
  {
   "cell_type": "markdown",
   "metadata": {},
   "source": [
    "## Sync .MUTEX\n",
    "\n",
    "Si es necesario asegurar que sólo una gouroutine pueda acceder a una variable a la vez se debe usar la exclusión mutua, la cual se conoce como mutex.\n",
    "\n",
    "La biblioteca que usa GO es sync.Mutex y sus métodos: Lock y Unlock.\n"
   ]
  },
  {
   "cell_type": "code",
   "execution_count": 62,
   "metadata": {},
   "outputs": [],
   "source": [
    "import \"sync\"\n",
    "\n",
    "type SafeCounter struct {\n",
    "    v   map[string]int\n",
    "    mux sync.Mutex\n",
    "}\n",
    "func (c *SafeCounter) Inc(key string) {\n",
    "    c.mux.Lock()\n",
    "    c.v[key]++\n",
    "    c.mux.Unlock()\n",
    "}\n",
    "func (c *SafeCounter) Value(key string) int {\n",
    "    c.mux.Lock()\n",
    "    defer c.mux.Unlock()\n",
    "    return c.v[key]\n",
    "}\n",
    "func main() {\n",
    "    c := SafeCounter{v: make(map[string]int)}\n",
    "    for i := 0; i < 1000; i++ {\n",
    "        go c.Inc(\"somekey\")\n",
    "    }\n",
    "    time.Sleep(time.Second)\n",
    "    fmt.Println(c.Value(\"somekey\"))\n",
    "}"
   ]
  },
  {
   "cell_type": "markdown",
   "metadata": {},
   "source": [
    "## Ejemplo de Concurrencia: PRIME SIEVE \n",
    "\n",
    "*La criba de Eratóstenes es un algoritmo que permite hallar todos los números primos menores que un número natural dado n. Se forma una tabla con todos los números naturales comprendidos entre 2 y n, y se van tachando los números que no son primos de la siguiente manera: Comenzando por el 2, se tachan todos sus múltiplos; comenzando de nuevo, cuando se encuentra un número entero que no ha sido tachado, ese número es declarado primo, y se procede a tachar todos sus múltiplos, así sucesivamente. El proceso termina cuando el cuadrado del siguiente número confirmado como primo es mayor que n.*\n",
    "\n",
    "Tomado de: https://es.wikipedia.org/wiki/Criba_de_Erat%C3%B3stenes\n",
    "\n",
    "El siguiente ejemplo permite hallar los primeros 10 números primos basados en la Criba de Eratóstenes (Sieve of Eratosthenes)."
   ]
  },
  {
   "cell_type": "code",
   "execution_count": 63,
   "metadata": {},
   "outputs": [],
   "source": [
    "func Generate(ch chan<- int) {\n",
    "    for i := 2; ; i++ {\n",
    "        ch <- i\n",
    "    }\n",
    "}\n",
    "\n",
    "func Filter(in <-chan int, out chan<- int, prime int) {\n",
    "    for {\n",
    "        i := <-in\n",
    "        if i%prime != 0 {\n",
    "            out <- i\n",
    "        }\n",
    "    }\n",
    "}\n",
    "\n",
    "func main() {\n",
    "    ch := make(chan int)\n",
    "    go Generate(ch)\n",
    "    for i := 0; i < 10 ; i++ {\n",
    "        prime := <-ch\n",
    "        fmt.Println(prime)\n",
    "        ch1 := make(chan int)\n",
    "        go Filter(ch, ch1, prime)\n",
    "        ch = ch1\n",
    "    }\n",
    "}"
   ]
  },
  {
   "cell_type": "code",
   "execution_count": null,
   "metadata": {},
   "outputs": [],
   "source": []
  }
 ],
 "metadata": {
  "kernelspec": {
   "display_name": "Go",
   "language": "go",
   "name": "gophernotes"
  },
  "language_info": {
   "codemirror_mode": "",
   "file_extension": ".go",
   "mimetype": "",
   "name": "go",
   "nbconvert_exporter": "",
   "pygments_lexer": "",
   "version": "go1.12.6"
  }
 },
 "nbformat": 4,
 "nbformat_minor": 2
}
